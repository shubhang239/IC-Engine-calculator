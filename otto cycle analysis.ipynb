{
 "cells": [
  {
   "cell_type": "markdown",
   "metadata": {},
   "source": [
    "# Using Python to caculate petrol engine parameters\n",
    "\n"
   ]
  },
  {
   "cell_type": "code",
   "execution_count": 55,
   "metadata": {},
   "outputs": [],
   "source": [
    "import math\n",
    "import matplotlib.pyplot as plt"
   ]
  },
  {
   "cell_type": "code",
   "execution_count": 56,
   "metadata": {},
   "outputs": [],
   "source": [
    "# define a function to calculate the kinematics of engine\n",
    "\n",
    "def kinematics_engine(stroke, bore, con_rod, rc, start_crank, end_crank):\n",
    "    # geometric parameters\n",
    "    a = stroke/2\n",
    "    R = con_rod/a\n",
    "    # volume parameters\n",
    "    v_s = math.pi*(1/4)*pow(bore,2)*stroke\n",
    "    v_c = v_s/(rc - 1)\n",
    "    # angle of start of crank and angle of end of crank\n",
    "    sc = math.radians(start_crank)\n",
    "    ec = math.radians(end_crank)\n",
    "    # Calculating the change in volume with crank angle \n",
    "    num_vals = 100\n",
    "    dtheta = (ec - sc)/(num_vals - 1)\n",
    "    V = []\n",
    "    for i in range(0, num_vals):\n",
    "        theta = sc + i*dtheta\n",
    "        term_1 = 0.5*(rc-1)\n",
    "        term_2 = R + 1 - math.cos(theta)\n",
    "        term_3 = pow(R,2) - pow(math.sin(theta), 2)\n",
    "        term_3 = pow(term_3, 0.5)\n",
    "        V.append((1 + term_1*(term_2 - term_3))*v_c)\n",
    "    return V"
   ]
  },
  {
   "cell_type": "markdown",
   "metadata": {},
   "source": [
    "# Take values from user and calculate efficiency, plot P-V diagram\n",
    "Sample values are: \n",
    "\n",
    "Initial Pressure = 101.325 kPa,\n",
    "Initial Temperature = 500K,\n",
    "Adiabatic coefficient = 1.4,\n",
    "Temperature at combustion = 2300K,\n",
    "Bore diameter = 0.1m, \n",
    "Stroke length = 0.1m,\n",
    "length of connecting rod = 0.15m, \n",
    "pressure ratio (rc) = 8\n",
    "\n"
   ]
  },
  {
   "cell_type": "code",
   "execution_count": 57,
   "metadata": {},
   "outputs": [
    {
     "name": "stdout",
     "output_type": "stream",
     "text": [
      "Enter initial Pressure: 101325\n",
      "Enter initial Temperature: 300\n",
      "Enter the value of adibatic constant: 1.4\n",
      "Enter max Temperature: 3000\n",
      "Enter the cylinder diameter: 0.1\n",
      "Enter the lenght of stroke of cylinder: 0.2\n",
      "Enter length of connecting rod: 0.2\n",
      "Enter the value of pressure ratio: 9\n"
     ]
    }
   ],
   "source": [
    "# make the user input values \n",
    "\n",
    "p1 = input('Enter initial Pressure: ')\n",
    "p1 = float(p1)\n",
    "t1 = input('Enter initial Temperature: ')\n",
    "t1 = float(t1)\n",
    "gamma = input('Enter the value of adibatic constant: ')\n",
    "gamma = float(gamma)\n",
    "t3 = input(\"Enter max Temperature: \")\n",
    "t3 = float(t3)\n",
    "\n",
    "# engine geometric parameters\n",
    "\n",
    "bore = input('Enter the cylinder diameter: ')\n",
    "bore = float(bore)\n",
    "stroke = input(\"Enter the lenght of stroke of cylinder: \")\n",
    "stroke = float(stroke)\n",
    "con_rod = input('Enter length of connecting rod: ')\n",
    "con_rod = float(con_rod)\n",
    "rc = input('Enter the value of pressure ratio: ')\n",
    "rc = float(rc)"
   ]
  },
  {
   "cell_type": "code",
   "execution_count": 58,
   "metadata": {},
   "outputs": [
    {
     "name": "stdout",
     "output_type": "stream",
     "text": [
      "volume of stroke is 0.0015707963267948969\n",
      "clearance volume is 0.0001963495408493621\n",
      "volume at state point 1, v1 is 0.0017671458676442589\n",
      "volume at state point 2, v2 is 0.0001963495408493621\n",
      "temperature at state point 2 is 722.4674055842074\n"
     ]
    }
   ],
   "source": [
    "# let us start by calculating the volume \n",
    "\n",
    "v_s = (math.pi/4)*pow(bore, 2)*stroke\n",
    "print('volume of stroke is', v_s)\n",
    "v_c = v_s/(rc - 1)\n",
    "print('clearance volume is', v_c)\n",
    "v1 = v_s + v_c\n",
    "print('volume at state point 1, v1 is', v1)\n",
    "\n",
    "# Process 1 to 2 is isentropic compression\n",
    "# the values at state point 2 is calculated \n",
    "\n",
    "v2 = v_c\n",
    "print('volume at state point 2, v2 is', v2)\n",
    "\n",
    "# now we will calculate pressure at point 2 using the formula for adiabatic process\n",
    "# p2v2^gamma = p1v1^gamma\n",
    "\n",
    "p2 = p1*pow(v1, gamma)/pow(v2, gamma)\n",
    "\n",
    "# now we will calculate temperature at this point using ideal gas formula\n",
    "# p2v2/t2 = p1v1/t1; rhs = p2v2/t2; t2 = p2v2/rhs\n",
    "\n",
    "rhs = p1*v1/t1\n",
    "t2 = p2*v2/rhs\n",
    "print('temperature at state point 2 is', t2)\n",
    "\n",
    "# now we will compute the volume at points between state 1 and state 2 by calling the function defined earlier\n",
    "# the volume values will be stored in a list\n",
    "\n",
    "V_comp = kinematics_engine(stroke, bore, con_rod, rc, 180, 0)\n",
    "const = p1*pow(v1, gamma)\n",
    "P_comp = []\n",
    "for v in V_comp:\n",
    "    P_comp.append(const/pow(v, gamma))"
   ]
  },
  {
   "cell_type": "code",
   "execution_count": 59,
   "metadata": {},
   "outputs": [
    {
     "name": "stdout",
     "output_type": "stream",
     "text": [
      "volume at point 3 is 0.0001963495408493621\n",
      "pressure at point 3 is 9119250.0\n"
     ]
    }
   ],
   "source": [
    "# process 2 to 3 is constant volume heat addition\n",
    "# values for state point 3 are calculated\n",
    "\n",
    "v3 = v2     # constant volume process\n",
    "print('volume at point 3 is', v3)\n",
    "\n",
    "# using ideal gas equation to calculate pressure at point 3\n",
    "# p2v2/t2 = p3v3/t3; let lhs = p2v2/t2\n",
    "\n",
    "lhs = p2*v2/t2\n",
    "p3 = lhs*t3/v3\n",
    "print('pressure at point 3 is', p3)"
   ]
  },
  {
   "cell_type": "code",
   "execution_count": 60,
   "metadata": {},
   "outputs": [
    {
     "name": "stdout",
     "output_type": "stream",
     "text": [
      "volume at state point 4 is = 0.0017671458676442589\n",
      "pressure at point 4 is = 420745.6248551411\n",
      "temperature at state point 4 is = 1245.7309396155176\n"
     ]
    }
   ],
   "source": [
    "# Process 3 to 4 is isentropic expansion also known as the power stroke\n",
    "# caculating values for state point 4\n",
    "\n",
    "v4 = v1  # constant volume process\n",
    "print('volume at state point 4 is =', v4)\n",
    "\n",
    "# Caculating pressure at point 4 using the equation of adiabatic process\n",
    "p4 = p3*pow(v3, gamma)/pow(v4, gamma)\n",
    "print('pressure at point 4 is =', p4)\n",
    "\n",
    "# now we will calculate temperature at state point 4 using ideal gas equation\n",
    "# p3v3/t3 = p4v4/t4; rhs = p4v4/t4\n",
    "\n",
    "rhs = p3*v3/t3\n",
    "t4 = p4*v4/rhs\n",
    "print('temperature at state point 4 is =', t4)\n",
    "\n",
    "# now we will call the function defined earlier to caculate volume between points 3 and 4\n",
    "# we will use the values of volume to caculate pressure between points 3 and 4\n",
    "\n",
    "V_exp = kinematics_engine(stroke, bore, con_rod, rc, 0, 180)\n",
    "const = p3*pow(v3, gamma)\n",
    "P_exp = []\n",
    "for v in V_exp:\n",
    "    P_exp.append(const/pow(v, gamma))\n",
    "    "
   ]
  },
  {
   "cell_type": "code",
   "execution_count": 65,
   "metadata": {},
   "outputs": [
    {
     "name": "stdout",
     "output_type": "stream",
     "text": [
      "Thermal efficiency of the given engine is 58.47563534614941\n"
     ]
    }
   ],
   "source": [
    "# caclulating Thermal efficiency of cycle\n",
    "\n",
    "n = pow(pow(rc, (gamma - 1)), -1)\n",
    "percentage_efficiency = (1 - n)*100\n",
    "print('Thermal efficiency of the given engine is', percentage_efficiency)\n"
   ]
  },
  {
   "cell_type": "code",
   "execution_count": 62,
   "metadata": {},
   "outputs": [
    {
     "data": {
      "text/plain": [
       "<Figure size 720x576 with 0 Axes>"
      ]
     },
     "execution_count": 62,
     "metadata": {},
     "output_type": "execute_result"
    },
    {
     "data": {
      "image/png": "[encoded data removed]",
      "text/plain": [
       "<Figure size 432x288 with 1 Axes>"
      ]
     },
     "metadata": {
      "needs_background": "light"
     },
     "output_type": "display_data"
    },
    {
     "data": {
      "text/plain": [
       "<Figure size 720x576 with 0 Axes>"
      ]
     },
     "metadata": {},
     "output_type": "display_data"
    }
   ],
   "source": [
    "# plotting of graph\n",
    "\n",
    "plt.plot([v2, v3], [p2, p3])\n",
    "# plotting the curve for compresssion process between points 1 and 2\n",
    "plt.plot(V_comp, P_comp)\n",
    "# plotting the curve for expansion process between points 3 and 4\n",
    "plt.plot(V_exp, P_exp)\n",
    "plt.plot([v4, v1], [p4, p1])\n",
    "plt.title('Final PV Diagram for Otto Cycle')\n",
    "plt.xlabel('Volume')\n",
    "plt.ylabel('Pressure')\n",
    "plt.figure(figsize = (10,8))"
   ]
  },
  {
   "cell_type": "code",
   "execution_count": 63,
   "metadata": {},
   "outputs": [
    {
     "name": "stdout",
     "output_type": "stream",
     "text": [
      "The net work done by the engine is 3.24798203713339 kJ\n"
     ]
    }
   ],
   "source": [
    "# Net work done\n",
    "W_in = (p1*v1 - p2*v2)/(gamma - 1)\n",
    "W_out = (p3*v3 - p4*v4)/(gamma - 1)\n",
    "W_net = (W_out - W_in)/1000\n",
    "print('The net work done by the engine is', W_net,'kJ')"
   ]
  },
  {
   "cell_type": "code",
   "execution_count": null,
   "metadata": {},
   "outputs": [],
   "source": []
  },
  {
   "cell_type": "code",
   "execution_count": 64,
   "metadata": {},
   "outputs": [
    {
     "data": {
      "image/png": "[encoded data removed]",
      "text/plain": [
       "<Figure size 432x288 with 1 Axes>"
      ]
     },
     "metadata": {
      "needs_background": "light"
     },
     "output_type": "display_data"
    }
   ],
   "source": [
    "# variaion of efficiency with pressure ratio\n",
    "efficiency = []\n",
    "pressure_ratio = []\n",
    "for i in range(1,11):\n",
    "    k = 1 - pow(pow(i, (gamma - 1)), -1)\n",
    "    efficiency.append(k)\n",
    "    pressure_ratio.append(i)\n",
    "plt.xlabel('Pressure Ratio')\n",
    "plt.ylabel('Efficiency')\n",
    "plt.plot(pressure_ratio, efficiency)\n",
    "plt.show()"
   ]
  },
  {
   "cell_type": "code",
   "execution_count": null,
   "metadata": {},
   "outputs": [],
   "source": []
  }
 ],
 "metadata": {
  "kernelspec": {
   "display_name": "Python 3",
   "language": "python",
   "name": "python3"
  },
  "language_info": {
   "codemirror_mode": {
    "name": "ipython",
    "version": 3
   },
   "file_extension": ".py",
   "mimetype": "text/x-python",
   "name": "python",
   "nbconvert_exporter": "python",
   "pygments_lexer": "ipython3",
   "version": "3.8.5"
  }
 },
 "nbformat": 4,
 "nbformat_minor": 4
}
